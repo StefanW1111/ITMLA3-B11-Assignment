{
 "cells": [
  {
   "cell_type": "markdown",
   "id": "a495a5e6-bd78-4ae8-9a33-7b4910bf1e31",
   "metadata": {},
   "source": [
    "# Question 4.4"
   ]
  },
  {
   "cell_type": "markdown",
   "id": "8d2f5710-8a4a-40ba-8060-9043783c028b",
   "metadata": {},
   "source": [
    "## Autonomous Waste Management System for Cluttered Warehouse Environments"
   ]
  },
  {
   "cell_type": "markdown",
   "id": "30be98c0-e2f4-402d-b1c8-3f53f5cf4db6",
   "metadata": {},
   "source": [
    "#### Pseudocode detailing how to apply the chosen image segmentation algorithm"
   ]
  },
  {
   "cell_type": "code",
   "execution_count": null,
   "id": "f4757c8a-0419-45f3-8829-66c15f110d77",
   "metadata": {},
   "outputs": [],
   "source": [
    "#Import libraries\n",
    "from mask_rcnn_library import MaskRCNNModel\n",
    "import cv2"
   ]
  },
  {
   "cell_type": "code",
   "execution_count": null,
   "id": "b330e5e0-dc17-4922-bbf3-182a8db81131",
   "metadata": {},
   "outputs": [],
   "source": [
    "#Creating the Mask R-CNN Model\n",
    "mask_rcnn_model = MaskRCNNModel()"
   ]
  },
  {
   "cell_type": "markdown",
   "id": "14b5cf42-2c70-42f2-83ea-86c518e839a3",
   "metadata": {},
   "source": [
    "#### Creating functions for algorithm"
   ]
  },
  {
   "cell_type": "code",
   "execution_count": null,
   "id": "85fe869b-8a6b-4cd0-af14-da05b52effaa",
   "metadata": {},
   "outputs": [],
   "source": [
    "#Frame Capture Function\n",
    "def capture_frame():\n",
    "    #Code to capture RGB frame \n",
    "    return frame"
   ]
  },
  {
   "cell_type": "code",
   "execution_count": null,
   "id": "88264969-3ec2-4262-bc6c-7e948c069b52",
   "metadata": {},
   "outputs": [],
   "source": [
    "#Disposal bin mask extraction function\n",
    "def extract_disposal_bin():\n",
    "    #Code to extract mask (disposal bin)\n",
    "    return disposal_bin_mask"
   ]
  },
  {
   "cell_type": "code",
   "execution_count": null,
   "id": "99432161-e5d4-466f-be7b-cb384060ef81",
   "metadata": {},
   "outputs": [],
   "source": [
    "#Centroid calculation function\n",
    "def calculate_centroid(disposal_bin_mask):\n",
    "    #Calculate centroid of disposal bin mask\n",
    "    centroid_x, centroid_y = centroid_calculation(disposal_bin_mask)\n",
    "    return centroid_x, centroid_y"
   ]
  },
  {
   "cell_type": "code",
   "execution_count": null,
   "id": "257bb16c-3314-42ce-a9a2-10459e546ac9",
   "metadata": {},
   "outputs": [],
   "source": [
    "#Navigation planning function\n",
    "def plan_navigation(centroid_x, centroid_y):\n",
    "    #Code to plan navigation to target object\n",
    "    navigation_path = path_planning(centroid_x, centroid_y)\n",
    "    return navigation_path"
   ]
  },
  {
   "cell_type": "code",
   "execution_count": null,
   "id": "bfe92aa7-7b61-4a96-af33-44360e22d90a",
   "metadata": {},
   "outputs": [],
   "source": [
    "#Navigation function\n",
    "def navigate_to_bin(navigation_path):\n",
    "    #Navigation algorithm to target object\n",
    "    navigate(navigation_path)"
   ]
  },
  {
   "cell_type": "code",
   "execution_count": null,
   "id": "072bd95b-67d9-408b-ac64-a122c14b795d",
   "metadata": {},
   "outputs": [],
   "source": [
    "#Function for picking up disposal bin\n",
    "def pick_up_bin():\n",
    "    #Code to pick up the target object\n",
    "    pick_up()"
   ]
  },
  {
   "cell_type": "code",
   "execution_count": null,
   "id": "7f910e4d-b4f2-44b8-be3d-08a081ba5fdf",
   "metadata": {},
   "outputs": [],
   "source": [
    "#Function to navigate to waste management(WM) site\n",
    "def navigate_to_waste_site():\n",
    "    #Code to navigate to WM site\n",
    "    navigate(waste_site_path)"
   ]
  },
  {
   "cell_type": "code",
   "execution_count": null,
   "id": "ed1f875b-1819-44ae-93b8-88c4ece754f9",
   "metadata": {},
   "outputs": [],
   "source": [
    "#Function to release the disposal bin\n",
    "def release_bin():\n",
    "    # Code to release the target object\n",
    "    release()"
   ]
  },
  {
   "cell_type": "markdown",
   "id": "12e28773-1839-410a-bc2e-2a6954c3b903",
   "metadata": {},
   "source": [
    "#### Pseudocode program using the functions to navigate the robot"
   ]
  },
  {
   "cell_type": "code",
   "execution_count": null,
   "id": "7d777ee1-f82c-40a8-95ab-ec521eaef409",
   "metadata": {},
   "outputs": [],
   "source": [
    "while main == main:\n",
    "    frame = capture_frame()\n",
    "    #Apply R-CNN Mask\n",
    "    segmented_frame = mask_rcnn_model.segment(frame) \n",
    "    #Extract Mask\n",
    "    disposal_bin_mask = extract_disposal_bin(segmented_frame)\n",
    "    #Calculate Centroid\n",
    "    centroid_x, centroid_y = calculate_centroid(disposal_bin_mask)\n",
    "    #Plan path to bin\n",
    "    navigation_path = plan_navigation(centroid_x, centroid_y)\n",
    "    #Navigate to bin\n",
    "    navigate_to_bin(navigation_path)\n",
    "    #Pick up bin\n",
    "    pick_up_bin()\n",
    "    #Navigate to Waste management site\n",
    "    navigate_to_waste_site()\n",
    "    #Release bin\n",
    "    release_bin()\n",
    "    "
   ]
  },
  {
   "cell_type": "code",
   "execution_count": null,
   "id": "8f9396e7-790a-474c-95eb-976614a6190c",
   "metadata": {},
   "outputs": [],
   "source": []
  }
 ],
 "metadata": {
  "kernelspec": {
   "display_name": "Python 3 (ipykernel)",
   "language": "python",
   "name": "python3"
  },
  "language_info": {
   "codemirror_mode": {
    "name": "ipython",
    "version": 3
   },
   "file_extension": ".py",
   "mimetype": "text/x-python",
   "name": "python",
   "nbconvert_exporter": "python",
   "pygments_lexer": "ipython3",
   "version": "3.8.18"
  }
 },
 "nbformat": 4,
 "nbformat_minor": 5
}
